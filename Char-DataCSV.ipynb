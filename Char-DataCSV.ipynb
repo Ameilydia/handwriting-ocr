{
 "cells": [
  {
   "cell_type": "markdown",
   "metadata": {},
   "source": [
    "# Transforming images into csv"
   ]
  },
  {
   "cell_type": "code",
   "execution_count": 1,
   "metadata": {
    "collapsed": true
   },
   "outputs": [],
   "source": [
    "import numpy as np\n",
    "import matplotlib.pyplot as plt\n",
    "import glob\n",
    "import csv\n",
    "import cv2"
   ]
  },
  {
   "cell_type": "code",
   "execution_count": 2,
   "metadata": {
    "collapsed": true
   },
   "outputs": [],
   "source": [
    "def implt(img, cmp=None, t=''):\n",
    "    \"\"\" Show image using plt \"\"\"\n",
    "    plt.imshow(img, cmap=cmp)\n",
    "    plt.title(t)\n",
    "    plt.show()\n",
    "\n",
    "\n",
    "def correspondingShuffle(a, b):\n",
    "    \"\"\" Shuffle the numpy array so that a[i] correspond to b[i]\"\"\"\n",
    "    assert len(a) == len(b)\n",
    "    p = np.random.permutation(len(a))\n",
    "    return a[p], b[p]\n",
    "\n",
    "    \n",
    "def resize(img, size = 56):\n",
    "    \"\"\" Resize bigger side of the image to given size \"\"\"\n",
    "    if (img.shape[0] > img.shape[1]):\n",
    "        rat = size / img.shape[0]\n",
    "        return cv2.resize(img, (int(rat * img.shape[1]), size))\n",
    "    else:\n",
    "        rat = size / img.shape[1]\n",
    "        return cv2.resize(img, (size, int(rat * img.shape[0])))\n",
    "    return img\n",
    "\n",
    "\n",
    "def autocrop(image, threshold=80):\n",
    "    \"\"\" Crops edges below or equal to threshold \"\"\"\n",
    "    rows = np.where(np.max(image, 0) > threshold)[0]\n",
    "    cols = np.where(np.max(image, 1) > threshold)[0]\n",
    "    image = image[cols[0]:cols[-1] + 1, rows[0]:rows[-1] + 1]\n",
    "    return image\n",
    "\n",
    "\n",
    "def imgPreprocess(image):\n",
    "    \"\"\" Preprocess an image - crop \"\"\"\n",
    "    image = autocrop(image)\n",
    "    resized = resize(image)\n",
    "    \n",
    "    result = np.zeros((64, 64), np.uint8)\n",
    "    offset = [0, 0]\n",
    "    # Calculate offset for smaller size\n",
    "    if image.shape[0] > image.shape[1]:\n",
    "        offset = [int((result.shape[1] - resized.shape[1])/2), 4]\n",
    "    else:\n",
    "        offset = [4, int((result.shape[0] - resized.shape[0])/2)]\n",
    "    # Replace zeros by image \n",
    "    result[offset[1]:offset[1] + resized.shape[0],\n",
    "           offset[0]:offset[0] + resized.shape[1]] = resized\n",
    "    return result"
   ]
  },
  {
   "cell_type": "code",
   "execution_count": 3,
   "metadata": {
    "collapsed": false
   },
   "outputs": [
    {
     "name": "stdout",
     "output_type": "stream",
     "text": [
      "Images: 1151\n",
      "For 51 different labels\n"
     ]
    },
    {
     "ename": "TypeError",
     "evalue": "only integer scalar arrays can be converted to a scalar index",
     "output_type": "error",
     "traceback": [
      "\u001b[0;31m---------------------------------------------------------------------------\u001b[0m",
      "\u001b[0;31mTypeError\u001b[0m                                 Traceback (most recent call last)",
      "\u001b[0;32m<ipython-input-3-332fb0016d02>\u001b[0m in \u001b[0;36m<module>\u001b[0;34m()\u001b[0m\n\u001b[1;32m     25\u001b[0m \u001b[0mprint\u001b[0m\u001b[0;34m(\u001b[0m\u001b[0;34m\"For %d different labels\"\u001b[0m \u001b[0;34m%\u001b[0m \u001b[0mlen\u001b[0m\u001b[0;34m(\u001b[0m\u001b[0mchars\u001b[0m\u001b[0;34m)\u001b[0m\u001b[0;34m)\u001b[0m\u001b[0;34m\u001b[0m\u001b[0m\n\u001b[1;32m     26\u001b[0m \u001b[0;34m\u001b[0m\u001b[0m\n\u001b[0;32m---> 27\u001b[0;31m \u001b[0mimages\u001b[0m\u001b[0;34m,\u001b[0m \u001b[0mlabels\u001b[0m \u001b[0;34m=\u001b[0m \u001b[0mcorrespondingShuffle\u001b[0m\u001b[0;34m(\u001b[0m\u001b[0mimages\u001b[0m\u001b[0;34m,\u001b[0m \u001b[0mlabels\u001b[0m\u001b[0;34m)\u001b[0m\u001b[0;34m\u001b[0m\u001b[0m\n\u001b[0m\u001b[1;32m     28\u001b[0m \u001b[0;34m\u001b[0m\u001b[0m\n\u001b[1;32m     29\u001b[0m \u001b[0;32mwith\u001b[0m \u001b[0mopen\u001b[0m\u001b[0;34m(\u001b[0m\u001b[0mDATA_LOC\u001b[0m \u001b[0;34m+\u001b[0m \u001b[0mLANG\u001b[0m \u001b[0;34m+\u001b[0m \u001b[0;34m'-data.csv'\u001b[0m\u001b[0;34m,\u001b[0m \u001b[0;34m'w'\u001b[0m\u001b[0;34m)\u001b[0m \u001b[0;32mas\u001b[0m \u001b[0mcsvfile\u001b[0m\u001b[0;34m:\u001b[0m\u001b[0;34m\u001b[0m\u001b[0m\n",
      "\u001b[0;32m<ipython-input-2-7545a9de4f3d>\u001b[0m in \u001b[0;36mcorrespondingShuffle\u001b[0;34m(a, b)\u001b[0m\n\u001b[1;32m     10\u001b[0m     \u001b[0;32massert\u001b[0m \u001b[0mlen\u001b[0m\u001b[0;34m(\u001b[0m\u001b[0ma\u001b[0m\u001b[0;34m)\u001b[0m \u001b[0;34m==\u001b[0m \u001b[0mlen\u001b[0m\u001b[0;34m(\u001b[0m\u001b[0mb\u001b[0m\u001b[0;34m)\u001b[0m\u001b[0;34m\u001b[0m\u001b[0m\n\u001b[1;32m     11\u001b[0m     \u001b[0mp\u001b[0m \u001b[0;34m=\u001b[0m \u001b[0mnp\u001b[0m\u001b[0;34m.\u001b[0m\u001b[0mrandom\u001b[0m\u001b[0;34m.\u001b[0m\u001b[0mpermutation\u001b[0m\u001b[0;34m(\u001b[0m\u001b[0mlen\u001b[0m\u001b[0;34m(\u001b[0m\u001b[0ma\u001b[0m\u001b[0;34m)\u001b[0m\u001b[0;34m)\u001b[0m\u001b[0;34m\u001b[0m\u001b[0m\n\u001b[0;32m---> 12\u001b[0;31m     \u001b[0;32mreturn\u001b[0m \u001b[0ma\u001b[0m\u001b[0;34m[\u001b[0m\u001b[0mp\u001b[0m\u001b[0;34m]\u001b[0m\u001b[0;34m,\u001b[0m \u001b[0mb\u001b[0m\u001b[0;34m[\u001b[0m\u001b[0mp\u001b[0m\u001b[0;34m]\u001b[0m\u001b[0;34m\u001b[0m\u001b[0m\n\u001b[0m\u001b[1;32m     13\u001b[0m \u001b[0;34m\u001b[0m\u001b[0m\n\u001b[1;32m     14\u001b[0m \u001b[0;34m\u001b[0m\u001b[0m\n",
      "\u001b[0;31mTypeError\u001b[0m: only integer scalar arrays can be converted to a scalar index"
     ]
    }
   ],
   "source": [
    "LANG = 'cz'\n",
    "DATA_LOC = 'data/charclas/'\n",
    "\n",
    "# Get subfolders with images\n",
    "dirlist = glob.glob(DATA_LOC + LANG + \"/*/\")\n",
    "dirlist.sort()\n",
    "chars = [name[17] for name in dirlist]\n",
    "\n",
    "images = np.zeros((1, 4096))\n",
    "labels = []\n",
    "\n",
    "# For every label load images and create labels\n",
    "# cv2.imread(img, 0) - for loading images in grayscale\n",
    "# Images are scaled to 64x64\n",
    "for i in range(len(chars)):\n",
    "    imglist = glob.glob(dirlist[i] + '*.jpg')\n",
    "    imgs = np.array([imgPreprocess(cv2.imread(img, 0)) for img in imglist])\n",
    "    images = np.concatenate([images, imgs.reshape(len(imgs), 4096)])\n",
    "    labels.extend([i] * len(imgs))\n",
    "\n",
    "images = images[1:]\n",
    "\n",
    "assert len(labels) == len(images)\n",
    "print(\"Images: %d\" % len(labels))\n",
    "print(\"For %d different labels\" % len(chars))\n",
    "\n",
    "images, labels = correspondingShuffle(images, labels)    \n",
    "\n",
    "with open(DATA_LOC + LANG + '-data.csv', 'w') as csvfile:\n",
    "    writer = csv.writer(csvfile, delimiter=',', quotechar='|', quoting=csv.QUOTE_MINIMAL)\n",
    "    for row in images:\n",
    "        writer.writerow(row)\n",
    "        \n",
    "with open(DATA_LOC + LANG + '-labels.csv', 'w') as csvfile:\n",
    "    writer = csv.writer(csvfile, delimiter=',', quotechar='|', quoting=csv.QUOTE_MINIMAL)\n",
    "    writer.writerow(labels)\n",
    "    \n",
    "print(\"CSV data files saved.\")"
   ]
  },
  {
   "cell_type": "code",
   "execution_count": null,
   "metadata": {
    "collapsed": false
   },
   "outputs": [],
   "source": [
    "implt(images[-1].reshape(64,64), 'gray')"
   ]
  }
 ],
 "metadata": {
  "kernelspec": {
   "display_name": "Python 3",
   "language": "python",
   "name": "python3"
  },
  "language_info": {
   "codemirror_mode": {
    "name": "ipython",
    "version": 3
   },
   "file_extension": ".py",
   "mimetype": "text/x-python",
   "name": "python",
   "nbconvert_exporter": "python",
   "pygments_lexer": "ipython3",
   "version": "3.5.2+"
  }
 },
 "nbformat": 4,
 "nbformat_minor": 1
}
