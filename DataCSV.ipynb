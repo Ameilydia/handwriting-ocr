{
 "cells": [
  {
   "cell_type": "markdown",
   "metadata": {},
   "source": [
    "# Transforming images into csv"
   ]
  },
  {
   "cell_type": "code",
   "execution_count": 1,
   "metadata": {
    "collapsed": true
   },
   "outputs": [],
   "source": [
    "import numpy as np\n",
    "import matplotlib.pyplot as plt\n",
    "import glob\n",
    "import csv\n",
    "import cv2"
   ]
  },
  {
   "cell_type": "code",
   "execution_count": 2,
   "metadata": {
    "collapsed": true
   },
   "outputs": [],
   "source": [
    "def correspondingShuffle(a, b):\n",
    "    \"\"\" Shuffle the numpy array so that a[i] correspond to b[i]\"\"\"\n",
    "    assert len(a) == len(b)\n",
    "    p = np.random.permutation(len(a))\n",
    "    return a[p], b[p]\n",
    "\n",
    "\n",
    "def implt(img, cmp=None, t=''):\n",
    "    \"\"\" Show image using plt \"\"\"\n",
    "    plt.imshow(img, cmap=cmp)\n",
    "    plt.title(t)\n",
    "    plt.show()"
   ]
  },
  {
   "cell_type": "code",
   "execution_count": 3,
   "metadata": {
    "collapsed": true
   },
   "outputs": [],
   "source": [
    "def sobelDetect(channel):\n",
    "    \"\"\" The Sobel Operator\"\"\"\n",
    "    sobelX = cv2.Sobel(channel, cv2.CV_16S, 1, 0)\n",
    "    sobelY = cv2.Sobel(channel, cv2.CV_16S, 0, 1)\n",
    "    # Combine x, y gradient magnitudes sqrt(x^2 + y^2)\n",
    "    sobel = np.hypot(sobelX, sobelY)\n",
    "    sobel[sobel > 255] = 255\n",
    "    return sobel\n",
    "\n",
    "\n",
    "def imgPreprocess(image):\n",
    "    \"\"\" Preprocess image for \"\"\"\n",
    "    img = cv2.bilateralFilter(image, 0, 30, 30)\n",
    "    gray = cv2.cvtColor(img, cv2.COLOR_RGB2GRAY)\n",
    "    \n",
    "    # @TODO Can try only revers colors on grayscale image\n",
    "    # reversGray = cv2.bitwise_not(gray)\n",
    "    \n",
    "    edges = np.uint8(sobelDetect(gray))\n",
    "    ret,th = cv2.threshold(edges, 50, 255, cv2.THRESH_TOZERO)\n",
    "    return th"
   ]
  },
  {
   "cell_type": "code",
   "execution_count": 4,
   "metadata": {
    "collapsed": false
   },
   "outputs": [
    {
     "name": "stdout",
     "output_type": "stream",
     "text": [
      "Char: 11020\n",
      "Gaps: 4638\n",
      "Total: 15658\n",
      "CSV data files saved.\n"
     ]
    }
   ],
   "source": [
    "imglist0 = glob.glob('data/gapdet/0/*.jpg')\n",
    "imglist1 = glob.glob('data/gapdet/1/*.jpg')\n",
    "\n",
    "# cv2.imread(img, 0) - for loading images in grayscale\n",
    "# Data can be preprocessed or not\n",
    "# The preprocessing can take a while...\n",
    "# img = np.array([np.array(imgPreprocess(cv2.imread(img))) for img in imglist])\n",
    "img0 = np.array([np.array(cv2.imread(img, 0)) for img in imglist0])\n",
    "img1 = np.array([np.array(cv2.imread(img, 0)) for img in imglist1])\n",
    "\n",
    "# Image dimensions are 30x60 = 1800\n",
    "print(\"Char: \" + str(len(img0)))\n",
    "print(\"Gaps: \" + str(len(img1)))\n",
    "print(\"Total: \" + str(len(img1) + len(img0)))\n",
    "\n",
    "images = np.concatenate([img0.reshape(len(img0), 1800), img1.reshape(len(img1), 1800)])\n",
    "labels = np.concatenate([np.zeros(len(img0)), np.ones(len(img1))])\n",
    "\n",
    "images, labels = correspondingShuffle(images, labels)    \n",
    "\n",
    "with open('data/gapdet/data.csv', 'w') as csvfile:\n",
    "    writer = csv.writer(csvfile, delimiter=',', quotechar='|', quoting=csv.QUOTE_MINIMAL)\n",
    "    for row in images:\n",
    "        writer.writerow(row)\n",
    "        \n",
    "with open('data/gapdet/labels.csv', 'w') as csvfile:\n",
    "    writer = csv.writer(csvfile, delimiter=',', quotechar='|', quoting=csv.QUOTE_MINIMAL)\n",
    "    writer.writerow(labels)\n",
    "    \n",
    "print(\"CSV data files saved.\")"
   ]
  },
  {
   "cell_type": "code",
   "execution_count": 5,
   "metadata": {
    "collapsed": false
   },
   "outputs": [
    {
     "data": {
      "image/png": "[encoded data removed]",
      "text/plain": [
       "<matplotlib.figure.Figure at 0x7f1aa9a15b00>"
      ]
     },
     "metadata": {},
     "output_type": "display_data"
    },
    {
     "data": {
      "image/png": "[encoded data removed]",
      "text/plain": [
       "<matplotlib.figure.Figure at 0x7f1aa9a15ac8>"
      ]
     },
     "metadata": {},
     "output_type": "display_data"
    }
   ],
   "source": [
    "for i in range(len(images)):\n",
    "    if labels[i] == 0:\n",
    "        implt(images[i].reshape(60,30), 'gray', 'Char')\n",
    "        break;\n",
    "        \n",
    "for i in range(len(images)):\n",
    "    if labels[i] == 1:\n",
    "        implt(images[i].reshape(60,30), 'gray', 'Gap')\n",
    "        break;"
   ]
  }
 ],
 "metadata": {
  "kernelspec": {
   "display_name": "Python 3",
   "language": "python",
   "name": "python3"
  },
  "language_info": {
   "codemirror_mode": {
    "name": "ipython",
    "version": 3
   },
   "file_extension": ".py",
   "mimetype": "text/x-python",
   "name": "python",
   "nbconvert_exporter": "python",
   "pygments_lexer": "ipython3",
   "version": "3.5.2+"
  }
 },
 "nbformat": 4,
 "nbformat_minor": 1
}
