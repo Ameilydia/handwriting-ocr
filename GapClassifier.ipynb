{
 "cells": [
  {
   "cell_type": "markdown",
   "metadata": {},
   "source": [
    "# Convolutional Neural Network - Gap / Char Classification\n",
    "Using TensorFlow\n",
    "\n",
    "Also need to convert images in folder into csv data file"
   ]
  },
  {
   "cell_type": "code",
   "execution_count": 1,
   "metadata": {
    "collapsed": false
   },
   "outputs": [
    {
     "name": "stdout",
     "output_type": "stream",
     "text": [
      "OpenCV: 3.1.0-dev\n",
      "Numpy: 1.12.0\n",
      "TensorFlow: 1.0.0-rc1\n"
     ]
    }
   ],
   "source": [
    "import numpy as np\n",
    "import pandas as pd\n",
    "import matplotlib.pyplot as plt\n",
    "import tensorflow as tf\n",
    "import cv2\n",
    "\n",
    "# Creating CSV\n",
    "import glob\n",
    "import csv\n",
    "\n",
    "print(\"OpenCV: \" + cv2.__version__)\n",
    "print(\"Numpy: \" + np.__version__)\n",
    "print(\"TensorFlow: \" + tf.__version__)"
   ]
  },
  {
   "cell_type": "code",
   "execution_count": 2,
   "metadata": {
    "collapsed": true
   },
   "outputs": [],
   "source": [
    "def implt(img, cmp=None, t=''):\n",
    "    \"\"\" Show image using plt \"\"\"\n",
    "    plt.imshow(img, cmap=cmp)\n",
    "    plt.title(t)\n",
    "    plt.show()"
   ]
  },
  {
   "cell_type": "markdown",
   "metadata": {
    "collapsed": true
   },
   "source": [
    "## Load Images and Lables in CSV"
   ]
  },
  {
   "cell_type": "code",
   "execution_count": 3,
   "metadata": {
    "collapsed": false
   },
   "outputs": [
    {
     "name": "stdout",
     "output_type": "stream",
     "text": [
      "CSV data files loaded.\n",
      "Number of images: 5564\n",
      "Training images: 4451\n"
     ]
    }
   ],
   "source": [
    "# 755 chars and 306 gaps images, dimension 30x60 = 1800\n",
    "# Or read_csv() form pandas\n",
    "images = np.genfromtxt('data/gapdet/data.csv', delimiter=',')\n",
    "labels = np.genfromtxt('data/gapdet/labels.csv', delimiter=',')\n",
    "labels = np.reshape(labels, (len(labels), 1))\n",
    "\n",
    "print(\"CSV data files loaded.\")\n",
    "print(\"Number of images: \" + str(len(images)))\n",
    "\n",
    "div = int(0.8 * len(images))\n",
    "\n",
    "trainData = images[0:div]\n",
    "trainLabels = labels[0:div]\n",
    "evalData = images[div:]\n",
    "evalLabels = labels[div:]\n",
    "print(\"Training images: %g\" % div)"
   ]
  },
  {
   "cell_type": "markdown",
   "metadata": {},
   "source": [
    "# Create classifier"
   ]
  },
  {
   "cell_type": "markdown",
   "metadata": {},
   "source": [
    "### Simoid"
   ]
  },
  {
   "cell_type": "code",
   "execution_count": 4,
   "metadata": {
    "collapsed": false
   },
   "outputs": [
    {
     "name": "stdout",
     "output_type": "stream",
     "text": [
      "0 #  Cost: 1648.36  Accuracy: 0.69827\n",
      "500 #  Cost: 71.91  Accuracy: 0.798922\n",
      "1000 #  Cost: 16.5436  Accuracy: 0.873512\n",
      "1500 #  Cost: 119.765  Accuracy: 0.761851\n",
      "2000 #  Cost: 88.6834  Accuracy: 0.71557\n",
      "2500 #  Cost: 14.4706  Accuracy: 0.911256\n",
      "3000 #  Cost: 17.5025  Accuracy: 0.893507\n",
      "3500 #  Cost: 3.97933  Accuracy: 0.921366\n",
      "4000 #  Cost: 4.54229  Accuracy: 0.924736\n",
      "4500 #  Cost: 6.75175  Accuracy: 0.928331\n",
      "Eval accuracy: 0.632525\n",
      "Total accuracy: 0.844177\n"
     ]
    }
   ],
   "source": [
    "# Place holders for data and labels\n",
    "x = tf.placeholder(tf.float32, [None, 1800], name = \"x\")\n",
    "y_ = tf.placeholder(tf.float32, [None, 1], name = \"y_\")\n",
    "\n",
    "# Learned variables\n",
    "W = tf.Variable(tf.random_normal([1800, 1]), name = \"W\")\n",
    "b = tf.Variable(tf.random_normal([1]), name = \"b\")\n",
    "\n",
    "y = tf.matmul(x, W) + b\n",
    "\n",
    "# Training Model\n",
    "cross_entropy = tf.reduce_mean(tf.nn.sigmoid_cross_entropy_with_logits(labels=y_, logits=y, name=\"Cost\"))\n",
    "train_step = tf.train.AdamOptimizer(0.1).minimize(cross_entropy)\n",
    "\n",
    "# Evaluating model\n",
    "correct_prediction = tf.equal(tf.sigmoid(y) , y_)\n",
    "accuracy = tf.reduce_mean(tf.cast(correct_prediction, tf.float32))\n",
    "\n",
    "sess = tf.InteractiveSession()\n",
    "sess.run(tf.global_variables_initializer())\n",
    "\n",
    "# For saving and using model\n",
    "activation = tf.sigmoid(tf.matmul(x, W) + b)\n",
    "tf.add_to_collection(\"act\", activation)\n",
    "\n",
    "for i in range(5000):\n",
    "#     sess.run(train_step, feed_dict={x: images, y_: labels})\n",
    "    sess.run(train_step, feed_dict={x: trainData, y_: trainLabels})\n",
    "    if i % 500 == 0:\n",
    "        cost = cross_entropy.eval(feed_dict={x: trainData, y_: trainLabels})\n",
    "        acc = accuracy.eval(feed_dict={x: trainData, y_: trainLabels})\n",
    "        print(\"%d #  Cost: %g  Accuracy: %g\" % (i, cost, acc))\n",
    "\n",
    "\n",
    "# Saving model\n",
    "# tf.train.export_meta_graph('models/CGClassifier')\n",
    "saver = tf.train.Saver()\n",
    "saver.save(sess, 'models/CGClassifier')\n",
    "saver.export_meta_graph('models/CGClassifier.meta')\n",
    "\n",
    "\n",
    "print(\"Eval accuracy: %g\" % sess.run(accuracy, feed_dict={x: evalData, y_: evalLabels}))\n",
    "print(\"Total accuracy: %g\" % sess.run(accuracy, feed_dict={x: images, y_: labels}))\n",
    "\n",
    "sess.close()"
   ]
  },
  {
   "cell_type": "markdown",
   "metadata": {},
   "source": [
    "### Sofmax"
   ]
  },
  {
   "cell_type": "code",
   "execution_count": 5,
   "metadata": {
    "collapsed": false
   },
   "outputs": [],
   "source": [
    "def sofmaxLabels(lab):\n",
    "    \"\"\" Transform data for sofmax classification \"\"\"\n",
    "    newLab = np.zeros((len(lab), 2), dtype=np.int8)\n",
    "    for i in range(len(lab)):\n",
    "        newLab[i][int(lab[i][0])] = 1\n",
    "    return newLab\n",
    "\n",
    "llabels = sofmaxLabels(labels)\n",
    "trainLabels = llabels[0:div]\n",
    "evalLabels = llabels[div:]"
   ]
  },
  {
   "cell_type": "code",
   "execution_count": 6,
   "metadata": {
    "collapsed": false
   },
   "outputs": [
    {
     "name": "stdout",
     "output_type": "stream",
     "text": [
      "0 #  Cost: 3676.05  Accuracy: 0.700067\n",
      "500 #  Cost: 29.4448  Accuracy: 0.897326\n",
      "1000 #  Cost: 58.508  Accuracy: 0.864075\n",
      "1500 #  Cost: 15.2268  Accuracy: 0.929903\n",
      "2000 #  Cost: 28.2934  Accuracy: 0.910133\n",
      "2500 #  Cost: 42.1843  Accuracy: 0.89171\n",
      "3000 #  Cost: 90.6883  Accuracy: 0.836217\n",
      "3500 #  Cost: 16.3811  Accuracy: 0.933498\n",
      "4000 #  Cost: 18.9064  Accuracy: 0.902269\n",
      "4500 #  Cost: 19.8118  Accuracy: 0.884071\n",
      "Eval accuracy: 0.72327\n",
      "Total accuracy: 0.853343\n"
     ]
    }
   ],
   "source": [
    "sess = tf.InteractiveSession()\n",
    "\n",
    "x = tf.placeholder(tf.float32, [None, 1800])\n",
    "y_ = tf.placeholder(tf.float32, [None, 2])\n",
    "\n",
    "W = tf.Variable(tf.random_normal([1800, 2]))\n",
    "b = tf.Variable(tf.random_normal([2]))\n",
    "\n",
    "y = tf.matmul(x,W) + b\n",
    "\n",
    "cross_entropy = tf.reduce_mean(tf.nn.softmax_cross_entropy_with_logits(labels=y_, logits=y))\n",
    "train_step = tf.train.AdamOptimizer(0.1).minimize(cross_entropy)\n",
    "\n",
    "correct_prediction = tf.equal(tf.argmax(y, 1), tf.argmax(y_, 1))\n",
    "accuracy = tf.reduce_mean(tf.cast(correct_prediction, tf.float32))\n",
    "\n",
    "sess.run(tf.global_variables_initializer())\n",
    "\n",
    "for i in range(5000):\n",
    "    sess.run(train_step, feed_dict={x: trainData, y_: trainLabels})\n",
    "    if i % 500 == 0:\n",
    "        cost = cross_entropy.eval(feed_dict={x: trainData, y_: trainLabels})\n",
    "        acc = accuracy.eval(feed_dict={x: trainData, y_: trainLabels})\n",
    "        print(\"%d #  Cost: %g  Accuracy: %g\" % (i, cost, acc))\n",
    "\n",
    "    \n",
    "\n",
    "print(\"Eval accuracy: %g\" % accuracy.eval(feed_dict={x: evalData, y_: evalLabels}))\n",
    "print(\"Total accuracy: %g\" % accuracy.eval(feed_dict={x: images, y_: llabels}))\n",
    "\n",
    "sess.close()"
   ]
  },
  {
   "cell_type": "markdown",
   "metadata": {},
   "source": [
    "### Convulation Neural Network"
   ]
  },
  {
   "cell_type": "code",
   "execution_count": 7,
   "metadata": {
    "collapsed": false
   },
   "outputs": [
    {
     "name": "stdout",
     "output_type": "stream",
     "text": [
      "0 #  Cost: 169.092  Accuracy: 0.685913\n",
      "10 #  Cost: 71.9017  Accuracy: 0.700966\n",
      "20 #  Cost: 42.2531  Accuracy: 0.744327\n",
      "30 #  Cost: 29.0836  Accuracy: 0.779151\n",
      "40 #  Cost: 22.4769  Accuracy: 0.800494\n",
      "50 #  Cost: 17.7913  Accuracy: 0.818468\n",
      "60 #  Cost: 14.0565  Accuracy: 0.830375\n",
      "70 #  Cost: 11.639  Accuracy: 0.844529\n",
      "80 #  Cost: 9.43386  Accuracy: 0.852842\n",
      "90 #  Cost: 7.74464  Accuracy: 0.862503\n",
      "100 #  Cost: 6.62132  Accuracy: 0.869692\n",
      "110 #  Cost: 5.17878  Accuracy: 0.880926\n",
      "120 #  Cost: 4.30363  Accuracy: 0.891036\n",
      "130 #  Cost: 3.65433  Accuracy: 0.897551\n",
      "140 #  Cost: 3.03407  Accuracy: 0.903617\n",
      "150 #  Cost: 2.52885  Accuracy: 0.913503\n",
      "160 #  Cost: 1.98134  Accuracy: 0.925859\n",
      "170 #  Cost: 1.70483  Accuracy: 0.929903\n",
      "180 #  Cost: 1.49411  Accuracy: 0.934621\n",
      "190 #  Cost: 1.17387  Accuracy: 0.940687\n",
      "200 #  Cost: 0.954691  Accuracy: 0.948551\n",
      "210 #  Cost: 0.803997  Accuracy: 0.95237\n",
      "220 #  Cost: 0.656812  Accuracy: 0.956414\n",
      "230 #  Cost: 0.522657  Accuracy: 0.961582\n",
      "240 #  Cost: 0.416346  Accuracy: 0.9663\n",
      "250 #  Cost: 0.363631  Accuracy: 0.968996\n",
      "260 #  Cost: 0.294655  Accuracy: 0.973489\n",
      "270 #  Cost: 0.25687  Accuracy: 0.974837\n",
      "280 #  Cost: 0.180129  Accuracy: 0.97933\n",
      "290 #  Cost: 0.156406  Accuracy: 0.982027\n",
      "Eval accuracy 0.838275\n",
      "Total accuracy: 0.953631\n"
     ]
    }
   ],
   "source": [
    "sess = tf.InteractiveSession()\n",
    "\n",
    "x = tf.placeholder(tf.float32, [None, 1800])\n",
    "y_ = tf.placeholder(tf.float32, [None, 2])\n",
    "\n",
    "def weight_variable(shape):\n",
    "    initial = tf.truncated_normal(shape, stddev=0.1)\n",
    "    return tf.Variable(initial)\n",
    "\n",
    "def bias_variable(shape):\n",
    "    initial = tf.constant(0.1, shape=shape)\n",
    "    return tf.Variable(initial)\n",
    "\n",
    "\n",
    "def conv2d(x, W):\n",
    "    return tf.nn.conv2d(x, W, strides=[1, 1, 1, 1], padding='SAME')\n",
    "\n",
    "def max_pool_2x2(x):\n",
    "    return tf.nn.max_pool(x, ksize=[1, 2, 2, 1], strides=[1, 2, 2, 1], padding='SAME')\n",
    "\n",
    "x_image = tf.reshape(x, [-1, 30, 60, 1])\n",
    "\n",
    "# 1. Layer\n",
    "W_conv1 = tf.Variable(tf.truncated_normal([5, 5, 1, 12], stddev=0.1), name=\"W_conv1\")\n",
    "b_conv1 = tf.Variable(tf.constant(0.1, shape=[12]), name=\"b_conv1\")\n",
    "\n",
    "h_conv1 = tf.nn.relu(conv2d(x_image, W_conv1) + b_conv1)\n",
    "h_pool1 = max_pool_2x2(h_conv1)\n",
    "\n",
    "# 2. Layer\n",
    "W_conv2 = tf.Variable(tf.truncated_normal([5, 5, 12, 24], stddev=0.1), name=\"W_conv2\")\n",
    "b_conv2 = tf.Variable(tf.constant(0.1, shape=[24]), name=\"b_conv2\")\n",
    "\n",
    "h_conv2 = tf.nn.relu(conv2d(h_pool1, W_conv2) + b_conv2)\n",
    "h_pool2 = max_pool_2x2(h_conv2)\n",
    "\n",
    "# Connected layer\n",
    "W_fc1 = tf.Variable(tf.truncated_normal([8 * 15 * 24, 512], stddev=0.1), name=\"W_fc1\")\n",
    "b_fc1 = tf.Variable(tf.constant(0.1, shape=[512]), name=\"b_fc1\")\n",
    "\n",
    "h_pool2_flat = tf.reshape(h_pool2, [-1, 8*15*24])\n",
    "h_fc1 = tf.nn.relu(tf.matmul(h_pool2_flat, W_fc1) + b_fc1)\n",
    "\n",
    "# Dropout\n",
    "keep_prob = tf.placeholder(tf.float32)\n",
    "h_fc1_drop = tf.nn.dropout(h_fc1, keep_prob)\n",
    "\n",
    "# Output layer\n",
    "W_fc2 = tf.Variable(tf.truncated_normal([512, 2], stddev=0.1), name=\"W_fc2\")\n",
    "b_fc2 = tf.Variable(tf.constant(0.1, shape=[2]), name=\"b_fc2\")\n",
    "\n",
    "y_conv = tf.matmul(h_fc1_drop, W_fc2) + b_fc2\n",
    "\n",
    "\n",
    "# Train\n",
    "# Stacking on 18029.2 cost\n",
    "# cross_entropy = -tf.reduce_sum(y_*tf.log(y_conv + 1e-10))\n",
    "cross_entropy = tf.reduce_mean(tf.nn.softmax_cross_entropy_with_logits(logits=y_conv, labels=y_))\n",
    "train_step = tf.train.AdamOptimizer(1e-4).minimize(cross_entropy)\n",
    "\n",
    "correct_prediction = tf.equal(tf.argmax(y_conv,1), tf.argmax(y_,1))\n",
    "accuracy = tf.reduce_mean(tf.cast(correct_prediction, tf.float32))\n",
    "\n",
    "sess.run(tf.global_variables_initializer())\n",
    "\n",
    "saver = tf.train.Saver()\n",
    "\n",
    "for i in range(300):\n",
    "    if i%10 == 0:\n",
    "        cost = cross_entropy.eval(feed_dict={x: trainData, y_: trainLabels, keep_prob: 1.0})\n",
    "        acc = accuracy.eval(feed_dict={x: trainData, y_: trainLabels, keep_prob: 1.0})\n",
    "        print(\"%d #  Cost: %g  Accuracy: %g\" % (i, cost, acc))\n",
    "        \n",
    "    if i%50 == 0:\n",
    "        saver.save(sess, 'models/CNN-CG')\n",
    "        saver.export_meta_graph('models/CNN-CG.meta')\n",
    "\n",
    "    train_step.run(feed_dict={x: trainData, y_: trainLabels, keep_prob: 0.5})\n",
    "\n",
    "print(\"Eval accuracy %g\" % accuracy.eval(feed_dict={x: evalData, y_: evalLabels, keep_prob: 1.0}))\n",
    "print(\"Total accuracy: %g\" % accuracy.eval(feed_dict={x: images, y_: llabels, keep_prob: 1.0}))\n",
    "\n",
    "sess.close()"
   ]
  }
 ],
 "metadata": {
  "kernelspec": {
   "display_name": "Python 3",
   "language": "python",
   "name": "python3"
  },
  "language_info": {
   "codemirror_mode": {
    "name": "ipython",
    "version": 3
   },
   "file_extension": ".py",
   "mimetype": "text/x-python",
   "name": "python",
   "nbconvert_exporter": "python",
   "pygments_lexer": "ipython3",
   "version": "3.5.2+"
  }
 },
 "nbformat": 4,
 "nbformat_minor": 0
}
