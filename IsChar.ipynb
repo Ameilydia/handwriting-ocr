{
 "cells": [
  {
   "cell_type": "markdown",
   "metadata": {},
   "source": [
    "# Detekuje, jestli je pouze jeden char na obrázku"
   ]
  },
  {
   "cell_type": "code",
   "execution_count": 2,
   "metadata": {
    "collapsed": true
   },
   "outputs": [],
   "source": [
    "import numpy as np\n",
    "import pandas as pd\n",
    "import matplotlib.pyplot as plt\n",
    "import cv2"
   ]
  },
  {
   "cell_type": "code",
   "execution_count": 3,
   "metadata": {
    "collapsed": true
   },
   "outputs": [],
   "source": [
    "# Sigmoid function\n",
    "def sigmoid(z):                                        \n",
    "    return 1 / (1 + np.exp(-z))\n",
    "\n",
    "\n",
    "def sofmax(z):\n",
    "    z -= np.max(z)\n",
    "    return np.exp(z) / np.sum(np.exp(z))"
   ]
  },
  {
   "cell_type": "code",
   "execution_count": 9,
   "metadata": {
    "collapsed": false
   },
   "outputs": [
    {
     "name": "stdout",
     "output_type": "stream",
     "text": [
      "Weight: [[-0.1485917   0.45585474 -0.07997877 ..., -0.44056154  0.2381473\n",
      "  -0.35264289]\n",
      " [ 0.41587505 -0.28560071  0.2223176  ...,  0.32601919  0.4853493\n",
      "  -0.43454189]]\n",
      "Class: [ 0.27755952 -0.1433718 ]\n"
     ]
    }
   ],
   "source": [
    "# Weight vector shape: from 784 pixels to 10 possible classifications\n",
    "W_shape = (2, 500)\n",
    "b_shape = 2\n",
    "\n",
    "W = np.random.random(W_shape) - 0.5\n",
    "b = np.random.random(b_shape) - 0.5\n",
    "print(\"Weight: %s\" % W)\n",
    "print(\"Class: %s\" % b)"
   ]
  },
  {
   "cell_type": "code",
   "execution_count": null,
   "metadata": {
    "collapsed": true
   },
   "outputs": [],
   "source": []
  }
 ],
 "metadata": {
  "kernelspec": {
   "display_name": "Python 3",
   "language": "python",
   "name": "python3"
  },
  "language_info": {
   "codemirror_mode": {
    "name": "ipython",
    "version": 3
   },
   "file_extension": ".py",
   "mimetype": "text/x-python",
   "name": "python",
   "nbconvert_exporter": "python",
   "pygments_lexer": "ipython3",
   "version": "3.5.2"
  }
 },
 "nbformat": 4,
 "nbformat_minor": 0
}
