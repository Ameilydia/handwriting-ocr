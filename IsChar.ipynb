{
 "cells": [
  {
   "cell_type": "markdown",
   "metadata": {},
   "source": [
    "# Convolutional Neural Network - Gap / Char Classification\n",
    "Using TensorFlow\n",
    "\n",
    "Also need to convert images in folder into csv data file"
   ]
  },
  {
   "cell_type": "code",
   "execution_count": 1,
   "metadata": {
    "collapsed": false
   },
   "outputs": [
    {
     "name": "stdout",
     "output_type": "stream",
     "text": [
      "OpenCV: 3.1.0-dev\n",
      "Numpy: 1.12.0\n",
      "TensorFlow: 0.12.1\n"
     ]
    }
   ],
   "source": [
    "import numpy as np\n",
    "import pandas as pd\n",
    "import matplotlib.pyplot as plt\n",
    "import tensorflow as tf\n",
    "import cv2\n",
    "\n",
    "# Creating CSV\n",
    "import glob\n",
    "import csv\n",
    "\n",
    "sess = tf.InteractiveSession()\n",
    "\n",
    "print(\"OpenCV: \" + cv2.__version__)\n",
    "print(\"Numpy: \" + np.__version__)\n",
    "print(\"TensorFlow: \" + tf.__version__)"
   ]
  },
  {
   "cell_type": "markdown",
   "metadata": {
    "collapsed": true
   },
   "source": [
    "## Load Images and Lables in CSV"
   ]
  },
  {
   "cell_type": "code",
   "execution_count": 4,
   "metadata": {
    "collapsed": false
   },
   "outputs": [
    {
     "name": "stdout",
     "output_type": "stream",
     "text": [
      "CSV data files loaded.\n",
      "[[ 201.  201.  200. ...,  198.  199.  199.]\n",
      " [ 201.  200.  199. ...,  204.  202.  201.]\n",
      " [ 194.  196.  195. ...,  197.  200.  201.]\n",
      " ..., \n",
      " [ 194.  193.  193. ...,  193.  194.  192.]\n",
      " [ 196.  197.  198. ...,  198.  197.  196.]\n",
      " [ 201.  202.  200. ...,  199.  199.  199.]]\n",
      "[ 0.  0.  0. ...,  0.  1.  1.]\n"
     ]
    }
   ],
   "source": [
    "# 755 chars and 306 gaps images, dimension 30x60 = 1800\n",
    "# Or read_csv() form pandas\n",
    "images = np.genfromtxt('data/gapdet/data.csv', delimiter=',')\n",
    "labels = np.genfromtxt('data/gapdet/labels.csv', delimiter=',')\n",
    "\n",
    "print(\"CSV data files loaded.\")"
   ]
  }
 ],
 "metadata": {
  "kernelspec": {
   "display_name": "Python 3",
   "language": "python",
   "name": "python3"
  },
  "language_info": {
   "codemirror_mode": {
    "name": "ipython",
    "version": 3
   },
   "file_extension": ".py",
   "mimetype": "text/x-python",
   "name": "python",
   "nbconvert_exporter": "python",
   "pygments_lexer": "ipython3",
   "version": "3.5.2"
  }
 },
 "nbformat": 4,
 "nbformat_minor": 0
}
